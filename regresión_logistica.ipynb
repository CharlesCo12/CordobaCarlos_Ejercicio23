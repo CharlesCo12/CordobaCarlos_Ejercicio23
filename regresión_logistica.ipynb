{
 "cells": [
  {
   "cell_type": "code",
   "execution_count": 20,
   "metadata": {},
   "outputs": [],
   "source": [
    "import numpy as np\n",
    "import matplotlib.pyplot as plt\n",
    "from sklearn.linear_model import LogisticRegression\n",
    "from sklearn.preprocessing import StandardScaler\n",
    "from sklearn.model_selection import train_test_split\n",
    "import sklearn.datasets\n",
    "import sklearn.preprocessing\n",
    "import sklearn.neural_network\n",
    "import sklearn.model_selection\n",
    "import pandas as pd"
   ]
  },
  {
   "cell_type": "code",
   "execution_count": 3,
   "metadata": {},
   "outputs": [],
   "source": [
    "data=pd.read_csv('clean2(1).data')"
   ]
  },
  {
   "cell_type": "markdown",
   "metadata": {},
   "source": [
    "# Descripción del Data Set\n",
    "\n",
    "El data set es un conjunto de datos que describen si un elemento es o no un 'Musk' teniendo un total de 169 atributos donde los dos primeros indican el nombre numérico y cualitativo del elemento, y el último atributo es un 1 o un 0 según si el elemento es un Musk."
   ]
  },
  {
   "cell_type": "code",
   "execution_count": 4,
   "metadata": {},
   "outputs": [
    {
     "data": {
      "text/plain": [
       "Index(['MUSK-211', '211_1+1', '46', '-108', '-60', '-69', '-117', '49', '38',\n",
       "       '-161',\n",
       "       ...\n",
       "       '-308.1', '52', '-7', '39', '126', '156', '-50.1', '-112', '96', '1.'],\n",
       "      dtype='object', length=169)"
      ]
     },
     "execution_count": 4,
     "metadata": {},
     "output_type": "execute_result"
    }
   ],
   "source": [
    "data.keys()"
   ]
  },
  {
   "cell_type": "code",
   "execution_count": 5,
   "metadata": {},
   "outputs": [],
   "source": [
    "Y = data['1.']"
   ]
  },
  {
   "cell_type": "code",
   "execution_count": 6,
   "metadata": {},
   "outputs": [],
   "source": [
    "data = data.drop('1.',axis=1)\n",
    "data = data.drop('MUSK-211',axis=1)\n",
    "data = data.drop('211_1+1',axis=1)"
   ]
  },
  {
   "cell_type": "code",
   "execution_count": 8,
   "metadata": {},
   "outputs": [],
   "source": [
    "predictors=data.keys()\n",
    "n = len(data[predictors])\n",
    "X = np.array(data[predictors]).reshape((n, -1))"
   ]
  },
  {
   "cell_type": "code",
   "execution_count": 9,
   "metadata": {},
   "outputs": [
    {
     "name": "stdout",
     "output_type": "stream",
     "text": [
      "(6597, 166) (6597,)\n"
     ]
    }
   ],
   "source": [
    "print(np.shape(X),np.shape(Y))"
   ]
  },
  {
   "cell_type": "code",
   "execution_count": 10,
   "metadata": {},
   "outputs": [],
   "source": [
    "scaler = StandardScaler()\n",
    "x_train, x_test, y_train, y_test = train_test_split(X, Y, train_size=0.5)\n",
    "x_train = scaler.fit_transform(x_train)\n",
    "x_test = scaler.transform(x_test)"
   ]
  },
  {
   "cell_type": "code",
   "execution_count": 44,
   "metadata": {},
   "outputs": [],
   "source": [
    "C=np.logspace(0,-4,100)\n",
    "f1=[]\n",
    "for i in C:\n",
    "    clf = LogisticRegression(C=i, penalty='l1', solver='saga', tol=0.1)\n",
    "    clf.fit(x_train, y_train)\n",
    "    f1.append(sklearn.metrics.f1_score(y_test, clf.predict(x_test), average='macro'))"
   ]
  },
  {
   "cell_type": "code",
   "execution_count": 45,
   "metadata": {},
   "outputs": [],
   "source": [
    "f1_2=[]\n",
    "for i in C:\n",
    "    clf = LogisticRegression(C=i, penalty='l2', solver='saga', tol=0.1)\n",
    "    clf.fit(x_train, y_train)\n",
    "    f1_2.append(sklearn.metrics.f1_score(y_test, clf.predict(x_test), average='macro'))"
   ]
  },
  {
   "cell_type": "code",
   "execution_count": 47,
   "metadata": {},
   "outputs": [
    {
     "data": {
      "text/plain": [
       "Text(0, 0.5, 'f1 score')"
      ]
     },
     "execution_count": 47,
     "metadata": {},
     "output_type": "execute_result"
    },
    {
     "data": {
      "image/png": "[encoded data removed]",
      "text/plain": [
       "<Figure size 432x288 with 1 Axes>"
      ]
     },
     "metadata": {
      "needs_background": "light"
     },
     "output_type": "display_data"
    }
   ],
   "source": [
    "plt.plot(C,f1,color='r',label='penalty l1')\n",
    "plt.plot(C,f1_2,color='green',label='penalty l2')\n",
    "plt.legend(loc=0.0)\n",
    "plt.xlabel('C')\n",
    "plt.ylabel('f1 score')"
   ]
  },
  {
   "cell_type": "code",
   "execution_count": null,
   "metadata": {},
   "outputs": [],
   "source": []
  }
 ],
 "metadata": {
  "kernelspec": {
   "display_name": "Python 3",
   "language": "python",
   "name": "python3"
  },
  "language_info": {
   "codemirror_mode": {
    "name": "ipython",
    "version": 3
   },
   "file_extension": ".py",
   "mimetype": "text/x-python",
   "name": "python",
   "nbconvert_exporter": "python",
   "pygments_lexer": "ipython3",
   "version": "3.7.6"
  }
 },
 "nbformat": 4,
 "nbformat_minor": 4
}
